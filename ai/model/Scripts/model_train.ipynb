{
 "cells": [
  {
   "cell_type": "code",
   "execution_count": 66,
   "metadata": {},
   "outputs": [],
   "source": [
    "from imblearn.over_sampling import SMOTE\n",
    "import numpy as np\n",
    "from xgboost import XGBClassifier\n",
    "from sklearn.metrics import accuracy_score, classification_report\n",
    "from sklearn.model_selection import train_test_split, KFold, cross_val_score\n",
    "import pandas as pd"
   ]
  },
  {
   "attachments": {},
   "cell_type": "markdown",
   "metadata": {},
   "source": [
    "### load csv data"
   ]
  },
  {
   "cell_type": "code",
   "execution_count": 67,
   "metadata": {},
   "outputs": [],
   "source": [
    "X_train = np.loadtxt('../data/csvs/csv_3/train_x_mv3_22_3.csv', delimiter=',', skiprows=1)\n",
    "y_train = np.loadtxt('../data/csvs/csv_3/train_y_mv3_22_3.csv', delimiter=',', skiprows=1)\n",
    "X_test = np.loadtxt('../data/csvs/csv_3/test_x_mv3_22_3.csv', delimiter=',', skiprows=1)\n",
    "y_test = np.loadtxt('../data/csvs/csv_3/test_y_mv3_22_3.csv', delimiter=',', skiprows=1)"
   ]
  },
  {
   "attachments": {},
   "cell_type": "markdown",
   "metadata": {},
   "source": [
    "### keypoint noralization"
   ]
  },
  {
   "cell_type": "code",
   "execution_count": 68,
   "metadata": {},
   "outputs": [
    {
     "data": {
      "text/plain": [
       "array([[0.45546875, 0.63055556, 0.46328125, ..., 0.18333333, 0.        ,\n",
       "        0.        ],\n",
       "       [0.41640625, 0.50416667, 0.43125   , ..., 0.        , 0.        ,\n",
       "        0.        ],\n",
       "       [0.35078125, 0.50694444, 0.36484375, ..., 0.03472222, 0.        ,\n",
       "        0.        ],\n",
       "       ...,\n",
       "       [0.48359375, 0.55416667, 0.51640625, ..., 0.        , 0.26796875,\n",
       "        0.56111111],\n",
       "       [0.47421875, 0.44444444, 0.51484375, ..., 0.45416667, 0.215625  ,\n",
       "        0.39166667],\n",
       "       [0.4875    , 0.52638889, 0.52421875, ..., 0.65277778, 0.21875   ,\n",
       "        0.58472222]])"
      ]
     },
     "execution_count": 68,
     "metadata": {},
     "output_type": "execute_result"
    }
   ],
   "source": [
    "X_train = np.array(X_train)\n",
    "X_train[:, ::2] /= 1280\n",
    "X_train[:, 1::2] /= 720\n",
    "X_train"
   ]
  },
  {
   "cell_type": "code",
   "execution_count": 69,
   "metadata": {},
   "outputs": [],
   "source": [
    "X_test = np.array(X_test)\n",
    "X_test[:, ::2] /= 1280\n",
    "X_test[:, 1::2] /= 720\n"
   ]
  },
  {
   "attachments": {},
   "cell_type": "markdown",
   "metadata": {},
   "source": [
    "### over sampling using SMOTE"
   ]
  },
  {
   "cell_type": "code",
   "execution_count": 70,
   "metadata": {},
   "outputs": [],
   "source": [
    "smote = SMOTE(random_state=11)\n",
    "X_train_over, y_train_over = smote.fit_resample(X_train, y_train)"
   ]
  },
  {
   "cell_type": "code",
   "execution_count": 32,
   "metadata": {},
   "outputs": [],
   "source": [
    "sample = np.concatenate((X_train_over, y_train_over), axis=1)\n",
    "sample = pd.DataFrame(sample)\n",
    "sample.to_csv(\"train_sampling.csv\", index=False)"
   ]
  },
  {
   "attachments": {},
   "cell_type": "markdown",
   "metadata": {},
   "source": [
    "### split train, validation data"
   ]
  },
  {
   "cell_type": "code",
   "execution_count": 71,
   "metadata": {},
   "outputs": [],
   "source": [
    "X_train, X_val, y_train, y_val = train_test_split(X_train_over, y_train_over, test_size=0.10)"
   ]
  },
  {
   "attachments": {},
   "cell_type": "markdown",
   "metadata": {},
   "source": [
    "### train with XGBClassifier"
   ]
  },
  {
   "cell_type": "code",
   "execution_count": 84,
   "metadata": {},
   "outputs": [
    {
     "name": "stdout",
     "output_type": "stream",
     "text": [
      "[0]\tvalidation_0-logloss:0.55273\n",
      "[2]\tvalidation_0-logloss:0.37907\n",
      "[4]\tvalidation_0-logloss:0.27838\n",
      "[6]\tvalidation_0-logloss:0.21329\n",
      "[8]\tvalidation_0-logloss:0.16875\n",
      "[10]\tvalidation_0-logloss:0.13630\n",
      "[12]\tvalidation_0-logloss:0.11494\n",
      "[14]\tvalidation_0-logloss:0.09817\n",
      "[16]\tvalidation_0-logloss:0.08628\n",
      "[18]\tvalidation_0-logloss:0.07677\n",
      "[20]\tvalidation_0-logloss:0.06998\n",
      "[22]\tvalidation_0-logloss:0.06435\n"
     ]
    },
    {
     "name": "stderr",
     "output_type": "stream",
     "text": [
      "c:\\Users\\miming\\anaconda3\\envs\\yolo-pose\\lib\\site-packages\\xgboost\\sklearn.py:861: UserWarning: `eval_metric` in `fit` method is deprecated for better compatibility with scikit-learn, use `eval_metric` in constructor or`set_params` instead.\n",
      "  warnings.warn(\n",
      "c:\\Users\\miming\\anaconda3\\envs\\yolo-pose\\lib\\site-packages\\xgboost\\sklearn.py:861: UserWarning: `early_stopping_rounds` in `fit` method is deprecated for better compatibility with scikit-learn, use `early_stopping_rounds` in constructor or`set_params` instead.\n",
      "  warnings.warn(\n"
     ]
    },
    {
     "name": "stdout",
     "output_type": "stream",
     "text": [
      "[24]\tvalidation_0-logloss:0.05994\n",
      "[26]\tvalidation_0-logloss:0.05622\n",
      "[28]\tvalidation_0-logloss:0.05297\n",
      "[30]\tvalidation_0-logloss:0.05000\n",
      "[32]\tvalidation_0-logloss:0.04725\n",
      "[34]\tvalidation_0-logloss:0.04546\n",
      "[36]\tvalidation_0-logloss:0.04416\n",
      "[38]\tvalidation_0-logloss:0.04266\n",
      "[40]\tvalidation_0-logloss:0.04169\n",
      "[42]\tvalidation_0-logloss:0.04050\n",
      "[44]\tvalidation_0-logloss:0.03970\n",
      "[46]\tvalidation_0-logloss:0.03888\n",
      "[48]\tvalidation_0-logloss:0.03812\n",
      "[50]\tvalidation_0-logloss:0.03760\n",
      "[52]\tvalidation_0-logloss:0.03721\n",
      "[54]\tvalidation_0-logloss:0.03636\n",
      "[56]\tvalidation_0-logloss:0.03596\n",
      "[58]\tvalidation_0-logloss:0.03573\n",
      "[60]\tvalidation_0-logloss:0.03552\n",
      "[62]\tvalidation_0-logloss:0.03503\n",
      "[64]\tvalidation_0-logloss:0.03504\n",
      "[66]\tvalidation_0-logloss:0.03468\n",
      "[68]\tvalidation_0-logloss:0.03435\n",
      "[70]\tvalidation_0-logloss:0.03405\n",
      "[72]\tvalidation_0-logloss:0.03386\n",
      "[74]\tvalidation_0-logloss:0.03368\n",
      "[76]\tvalidation_0-logloss:0.03355\n",
      "[78]\tvalidation_0-logloss:0.03353\n",
      "[80]\tvalidation_0-logloss:0.03358\n",
      "[82]\tvalidation_0-logloss:0.03334\n",
      "[84]\tvalidation_0-logloss:0.03322\n",
      "[86]\tvalidation_0-logloss:0.03324\n",
      "[88]\tvalidation_0-logloss:0.03323\n",
      "[90]\tvalidation_0-logloss:0.03331\n",
      "[92]\tvalidation_0-logloss:0.03317\n",
      "[94]\tvalidation_0-logloss:0.03311\n",
      "[96]\tvalidation_0-logloss:0.03282\n",
      "[98]\tvalidation_0-logloss:0.03266\n",
      "[100]\tvalidation_0-logloss:0.03253\n",
      "[102]\tvalidation_0-logloss:0.03257\n",
      "[104]\tvalidation_0-logloss:0.03253\n",
      "[106]\tvalidation_0-logloss:0.03259\n",
      "[108]\tvalidation_0-logloss:0.03267\n",
      "[110]\tvalidation_0-logloss:0.03273\n",
      "[112]\tvalidation_0-logloss:0.03266\n",
      "[114]\tvalidation_0-logloss:0.03264\n",
      "[116]\tvalidation_0-logloss:0.03261\n",
      "[118]\tvalidation_0-logloss:0.03266\n",
      "[120]\tvalidation_0-logloss:0.03255\n",
      "[122]\tvalidation_0-logloss:0.03259\n",
      "[124]\tvalidation_0-logloss:0.03242\n",
      "[126]\tvalidation_0-logloss:0.03224\n",
      "[128]\tvalidation_0-logloss:0.03234\n",
      "[130]\tvalidation_0-logloss:0.03229\n",
      "[132]\tvalidation_0-logloss:0.03234\n",
      "[134]\tvalidation_0-logloss:0.03232\n",
      "[136]\tvalidation_0-logloss:0.03232\n",
      "[138]\tvalidation_0-logloss:0.03218\n",
      "[140]\tvalidation_0-logloss:0.03202\n",
      "[142]\tvalidation_0-logloss:0.03217\n",
      "[144]\tvalidation_0-logloss:0.03206\n",
      "[146]\tvalidation_0-logloss:0.03198\n",
      "[148]\tvalidation_0-logloss:0.03190\n",
      "[150]\tvalidation_0-logloss:0.03193\n",
      "[152]\tvalidation_0-logloss:0.03193\n",
      "[154]\tvalidation_0-logloss:0.03185\n",
      "[156]\tvalidation_0-logloss:0.03190\n",
      "[158]\tvalidation_0-logloss:0.03177\n",
      "[160]\tvalidation_0-logloss:0.03183\n",
      "[162]\tvalidation_0-logloss:0.03173\n",
      "[164]\tvalidation_0-logloss:0.03180\n",
      "[166]\tvalidation_0-logloss:0.03175\n",
      "[168]\tvalidation_0-logloss:0.03172\n",
      "[170]\tvalidation_0-logloss:0.03176\n",
      "[172]\tvalidation_0-logloss:0.03172\n",
      "[174]\tvalidation_0-logloss:0.03171\n",
      "[176]\tvalidation_0-logloss:0.03173\n",
      "[178]\tvalidation_0-logloss:0.03171\n",
      "[180]\tvalidation_0-logloss:0.03168\n",
      "[182]\tvalidation_0-logloss:0.03165\n",
      "[184]\tvalidation_0-logloss:0.03164\n",
      "[186]\tvalidation_0-logloss:0.03162\n",
      "[188]\tvalidation_0-logloss:0.03162\n",
      "[190]\tvalidation_0-logloss:0.03165\n",
      "[192]\tvalidation_0-logloss:0.03163\n",
      "[194]\tvalidation_0-logloss:0.03163\n",
      "[196]\tvalidation_0-logloss:0.03162\n",
      "[198]\tvalidation_0-logloss:0.03165\n",
      "[200]\tvalidation_0-logloss:0.03162\n",
      "[202]\tvalidation_0-logloss:0.03162\n",
      "[204]\tvalidation_0-logloss:0.03167\n",
      "[206]\tvalidation_0-logloss:0.03165\n",
      "[208]\tvalidation_0-logloss:0.03170\n",
      "[210]\tvalidation_0-logloss:0.03169\n",
      "[212]\tvalidation_0-logloss:0.03171\n",
      "[214]\tvalidation_0-logloss:0.03166\n",
      "[216]\tvalidation_0-logloss:0.03170\n",
      "[218]\tvalidation_0-logloss:0.03174\n",
      "[220]\tvalidation_0-logloss:0.03172\n",
      "[222]\tvalidation_0-logloss:0.03173\n",
      "[224]\tvalidation_0-logloss:0.03178\n",
      "[226]\tvalidation_0-logloss:0.03176\n",
      "[228]\tvalidation_0-logloss:0.03184\n",
      "[230]\tvalidation_0-logloss:0.03186\n",
      "[232]\tvalidation_0-logloss:0.03180\n",
      "[234]\tvalidation_0-logloss:0.03177\n",
      "[236]\tvalidation_0-logloss:0.03178\n",
      "[238]\tvalidation_0-logloss:0.03178\n",
      "[240]\tvalidation_0-logloss:0.03181\n",
      "[242]\tvalidation_0-logloss:0.03183\n",
      "[244]\tvalidation_0-logloss:0.03182\n",
      "[246]\tvalidation_0-logloss:0.03185\n",
      "[248]\tvalidation_0-logloss:0.03183\n",
      "[250]\tvalidation_0-logloss:0.03182\n",
      "[252]\tvalidation_0-logloss:0.03177\n",
      "[254]\tvalidation_0-logloss:0.03177\n",
      "[256]\tvalidation_0-logloss:0.03185\n",
      "[258]\tvalidation_0-logloss:0.03184\n",
      "[260]\tvalidation_0-logloss:0.03182\n",
      "[262]\tvalidation_0-logloss:0.03185\n",
      "[264]\tvalidation_0-logloss:0.03183\n",
      "[266]\tvalidation_0-logloss:0.03188\n",
      "[268]\tvalidation_0-logloss:0.03188\n",
      "[270]\tvalidation_0-logloss:0.03187\n",
      "[272]\tvalidation_0-logloss:0.03192\n",
      "[274]\tvalidation_0-logloss:0.03195\n",
      "[276]\tvalidation_0-logloss:0.03195\n",
      "[278]\tvalidation_0-logloss:0.03193\n",
      "[280]\tvalidation_0-logloss:0.03194\n",
      "[282]\tvalidation_0-logloss:0.03198\n",
      "[284]\tvalidation_0-logloss:0.03197\n",
      "[286]\tvalidation_0-logloss:0.03199\n",
      "[288]\tvalidation_0-logloss:0.03195\n",
      "[290]\tvalidation_0-logloss:0.03195\n",
      "[292]\tvalidation_0-logloss:0.03194\n",
      "[294]\tvalidation_0-logloss:0.03192\n",
      "[296]\tvalidation_0-logloss:0.03193\n",
      "[298]\tvalidation_0-logloss:0.03194\n",
      "[300]\tvalidation_0-logloss:0.03188\n",
      "[302]\tvalidation_0-logloss:0.03190\n",
      "[304]\tvalidation_0-logloss:0.03190\n",
      "[306]\tvalidation_0-logloss:0.03195\n",
      "[308]\tvalidation_0-logloss:0.03194\n",
      "[310]\tvalidation_0-logloss:0.03191\n",
      "[312]\tvalidation_0-logloss:0.03192\n",
      "[314]\tvalidation_0-logloss:0.03191\n",
      "[316]\tvalidation_0-logloss:0.03193\n",
      "[318]\tvalidation_0-logloss:0.03195\n",
      "[320]\tvalidation_0-logloss:0.03194\n",
      "[322]\tvalidation_0-logloss:0.03191\n",
      "[324]\tvalidation_0-logloss:0.03187\n",
      "[326]\tvalidation_0-logloss:0.03192\n",
      "[328]\tvalidation_0-logloss:0.03195\n",
      "[330]\tvalidation_0-logloss:0.03192\n",
      "[332]\tvalidation_0-logloss:0.03192\n",
      "[334]\tvalidation_0-logloss:0.03195\n",
      "[336]\tvalidation_0-logloss:0.03193\n",
      "[338]\tvalidation_0-logloss:0.03194\n",
      "[340]\tvalidation_0-logloss:0.03195\n",
      "[342]\tvalidation_0-logloss:0.03198\n",
      "[344]\tvalidation_0-logloss:0.03198\n",
      "[346]\tvalidation_0-logloss:0.03198\n",
      "[348]\tvalidation_0-logloss:0.03200\n",
      "[350]\tvalidation_0-logloss:0.03200\n",
      "[352]\tvalidation_0-logloss:0.03199\n",
      "[354]\tvalidation_0-logloss:0.03202\n",
      "[356]\tvalidation_0-logloss:0.03201\n",
      "[358]\tvalidation_0-logloss:0.03203\n",
      "[360]\tvalidation_0-logloss:0.03204\n",
      "[362]\tvalidation_0-logloss:0.03201\n",
      "[364]\tvalidation_0-logloss:0.03204\n",
      "[366]\tvalidation_0-logloss:0.03205\n",
      "[368]\tvalidation_0-logloss:0.03206\n",
      "[370]\tvalidation_0-logloss:0.03203\n",
      "[372]\tvalidation_0-logloss:0.03202\n",
      "[374]\tvalidation_0-logloss:0.03205\n",
      "[376]\tvalidation_0-logloss:0.03203\n",
      "[378]\tvalidation_0-logloss:0.03206\n",
      "[380]\tvalidation_0-logloss:0.03204\n",
      "[382]\tvalidation_0-logloss:0.03202\n",
      "[384]\tvalidation_0-logloss:0.03203\n",
      "[386]\tvalidation_0-logloss:0.03205\n",
      "[387]\tvalidation_0-logloss:0.03202\n",
      "XGBClassifier(base_score=0.5, booster='gbtree', callbacks=None,\n",
      "              colsample_bylevel=1, colsample_bynode=1, colsample_bytree=1,\n",
      "              early_stopping_rounds=None, enable_categorical=False,\n",
      "              eval_metric=None, feature_types=None, gamma=0, gpu_id=-1,\n",
      "              grow_policy='depthwise', importance_type=None,\n",
      "              interaction_constraints='', learning_rate=0.18, max_bin=256,\n",
      "              max_cat_threshold=64, max_cat_to_onehot=4, max_delta_step=0,\n",
      "              max_depth=4, max_leaves=0, min_child_weight=1, missing=nan,\n",
      "              monotone_constraints='()', n_estimators=500, n_jobs=0,\n",
      "              num_parallel_tree=1, predictor='auto', random_state=32, ...)\n"
     ]
    }
   ],
   "source": [
    "model = XGBClassifier(n_estimators=500, learning_rate=0.18, max_depth=4, random_state=32)\n",
    "xgb_model = model.fit(X_train, y_train, eval_metric=\"logloss\", \n",
    "                      early_stopping_rounds=200, eval_set=([X_val, y_val],), verbose=2)\n",
    "print(xgb_model)"
   ]
  },
  {
   "attachments": {},
   "cell_type": "markdown",
   "metadata": {},
   "source": [
    "### predict test"
   ]
  },
  {
   "cell_type": "code",
   "execution_count": 85,
   "metadata": {},
   "outputs": [],
   "source": [
    "expected_y = y_test\n",
    "pred_y = xgb_model.predict(X_test)"
   ]
  },
  {
   "attachments": {},
   "cell_type": "markdown",
   "metadata": {},
   "source": [
    "### scores"
   ]
  },
  {
   "cell_type": "code",
   "execution_count": 86,
   "metadata": {},
   "outputs": [
    {
     "name": "stdout",
     "output_type": "stream",
     "text": [
      "              precision    recall  f1-score   support\n",
      "\n",
      "           0       1.00      0.91      0.95        44\n",
      "           1       1.00      0.80      0.89        45\n",
      "           2       0.94      0.92      0.93        49\n",
      "           3       1.00      0.96      0.98        53\n",
      "           4       0.98      0.85      0.91        47\n",
      "           5       0.97      0.85      0.90        33\n",
      "           6       0.93      0.73      0.82        37\n",
      "           7       1.00      0.89      0.94        36\n",
      "           8       0.93      0.90      0.92        63\n",
      "           9       1.00      0.89      0.94        38\n",
      "          10       1.00      0.91      0.95        34\n",
      "          11       1.00      0.81      0.90        32\n",
      "          12       1.00      0.93      0.97        45\n",
      "\n",
      "   micro avg       0.98      0.88      0.93       556\n",
      "   macro avg       0.98      0.87      0.92       556\n",
      "weighted avg       0.98      0.88      0.93       556\n",
      " samples avg       0.88      0.88      0.88       556\n",
      "\n",
      "Accuracy: 87.41%\n"
     ]
    },
    {
     "name": "stderr",
     "output_type": "stream",
     "text": [
      "c:\\Users\\miming\\anaconda3\\envs\\yolo-pose\\lib\\site-packages\\sklearn\\metrics\\_classification.py:1334: UndefinedMetricWarning: Precision and F-score are ill-defined and being set to 0.0 in samples with no predicted labels. Use `zero_division` parameter to control this behavior.\n",
      "  _warn_prf(average, modifier, msg_start, len(result))\n"
     ]
    }
   ],
   "source": [
    "print(classification_report(expected_y, pred_y))\n",
    "accuracy = accuracy_score(expected_y, pred_y)\n",
    "print(\"Accuracy: %.2f%%\" % (accuracy * 100))"
   ]
  },
  {
   "attachments": {},
   "cell_type": "markdown",
   "metadata": {},
   "source": [
    "### cross validation"
   ]
  },
  {
   "cell_type": "code",
   "execution_count": 87,
   "metadata": {},
   "outputs": [
    {
     "name": "stdout",
     "output_type": "stream",
     "text": [
      "교차 검증별 정확도:  [87.08 88.62 88.   83.69 85.23]\n",
      "평균 검증 정확도:  86.52\n"
     ]
    }
   ],
   "source": [
    "# cross validation - kfold\n",
    "kfold = KFold(n_splits=5, shuffle=True, random_state=0)\n",
    "scores = cross_val_score(xgb_model, X_train_over, y_train_over, cv=kfold)\n",
    "\n",
    "# validation score\n",
    "print(\"교차 검증별 정확도: \", (np.round(scores, 4)* 100))\n",
    "print(\"평균 검증 정확도: \", (np.round(np.mean(scores), 4)*100))"
   ]
  },
  {
   "attachments": {},
   "cell_type": "markdown",
   "metadata": {},
   "source": [
    "### save model"
   ]
  },
  {
   "cell_type": "code",
   "execution_count": 88,
   "metadata": {},
   "outputs": [],
   "source": [
    "xgb_model.save_model('xgb_mv3_nor.json')"
   ]
  },
  {
   "cell_type": "code",
   "execution_count": null,
   "metadata": {},
   "outputs": [],
   "source": []
  }
 ],
 "metadata": {
  "kernelspec": {
   "display_name": "yolo-pose",
   "language": "python",
   "name": "python3"
  },
  "language_info": {
   "codemirror_mode": {
    "name": "ipython",
    "version": 3
   },
   "file_extension": ".py",
   "mimetype": "text/x-python",
   "name": "python",
   "nbconvert_exporter": "python",
   "pygments_lexer": "ipython3",
   "version": "3.9.15 (main, Nov  4 2022, 16:35:55) [MSC v.1916 64 bit (AMD64)]"
  },
  "orig_nbformat": 4,
  "vscode": {
   "interpreter": {
    "hash": "fbcaa283362f7d7ab34f1f2f660dc94f80607c09155e3180ae2420da513f18b9"
   }
  }
 },
 "nbformat": 4,
 "nbformat_minor": 2
}
