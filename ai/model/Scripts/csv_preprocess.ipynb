{
 "cells": [
  {
   "cell_type": "code",
   "execution_count": 1,
   "metadata": {},
   "outputs": [],
   "source": [
    "import numpy as np\n",
    "from xgboost import XGBClassifier\n",
    "from keras.utils import to_categorical\n",
    "import pandas as pd"
   ]
  },
  {
   "attachments": {},
   "cell_type": "markdown",
   "metadata": {},
   "source": [
    "### functions"
   ]
  },
  {
   "cell_type": "code",
   "execution_count": 2,
   "metadata": {},
   "outputs": [],
   "source": [
    "def onehot(y):\n",
    "    label = []\n",
    "    for i in y:\n",
    "        label.append([int(i)])\n",
    "    y_result = to_categorical(label).astype(int)\n",
    "    \n",
    "    return y_result"
   ]
  },
  {
   "cell_type": "code",
   "execution_count": 3,
   "metadata": {},
   "outputs": [],
   "source": [
    "def load_csv(csv_path):\n",
    "    dataframe = pd.read_csv(csv_path)\n",
    "    df_to_process = dataframe.copy()\n",
    "    \n",
    "    # drop frame name\n",
    "    df_to_process.drop(columns=['file_name'], inplace=True)\n",
    "    \n",
    "    # pop class names\n",
    "    df_to_process.pop('class_name')\n",
    "    \n",
    "    # extract the labels\n",
    "    y = df_to_process.pop('class_no')\n",
    "\n",
    "    # convert the input features and labels into the correct format for training\n",
    "    X = df_to_process.astype('float64')\n",
    "    y = to_categorical(y)\n",
    "    return X.values, y\n",
    "    "
   ]
  },
  {
   "attachments": {},
   "cell_type": "markdown",
   "metadata": {},
   "source": [
    "### extract coordinate depending on a confidence score"
   ]
  },
  {
   "cell_type": "code",
   "execution_count": 4,
   "metadata": {},
   "outputs": [],
   "source": [
    "\n",
    "def extract_kpts(X, conf_threshold):\n",
    "    kpts =[]\n",
    "    for kpts_array in X:\n",
    "        num_kpts = len(kpts_array) // 3\n",
    "        temp = []\n",
    "        for kid in range(num_kpts - 6):\n",
    "            x_coords, y_coords = kpts_array[3 * kid], kpts_array[3 * kid + 1]\n",
    "            conf = kpts_array[3 * kid + 2]\n",
    "            if conf < conf_threshold:\n",
    "                x_coords, y_coords = 0.0, 0.0\n",
    "                temp.extend([x_coords, y_coords])\n",
    "                continue\n",
    "            temp.extend([x_coords, y_coords])\n",
    "        kpts.append(temp)\n",
    "        \n",
    "    return kpts"
   ]
  },
  {
   "cell_type": "code",
   "execution_count": 6,
   "metadata": {},
   "outputs": [],
   "source": [
    "X_train, y_train = load_csv('../data/csvs/origin/train_data_mv5.csv')\n",
    "X_test, y_test = load_csv('../data/csvs/origin/test_data_mv5.csv')\n",
    "kpts_train = extract_kpts(X_train, 0.3)\n",
    "kpts_test = extract_kpts(X_test, 0.3)"
   ]
  },
  {
   "cell_type": "code",
   "execution_count": 7,
   "metadata": {},
   "outputs": [],
   "source": [
    "# change array to dataframe\n",
    "kpts_train_df = pd.DataFrame(kpts_train)\n",
    "y_train_df = pd.DataFrame(y_train)\n",
    "kpts_test_df = pd.DataFrame(kpts_test)\n",
    "y_test_df = pd.DataFrame(y_test)"
   ]
  },
  {
   "attachments": {},
   "cell_type": "markdown",
   "metadata": {},
   "source": [
    "### save csv"
   ]
  },
  {
   "cell_type": "code",
   "execution_count": 8,
   "metadata": {},
   "outputs": [],
   "source": [
    "kpts_train_df.to_csv('train_x_mv5.csv', index=False)\n",
    "y_train_df.to_csv('train_y_mv5.csv', index=False)\n",
    "kpts_test_df.to_csv('test_x_mv5.csv', index=False)\n",
    "y_test_df.to_csv('test_y_mv5.csv', index=False)"
   ]
  },
  {
   "cell_type": "code",
   "execution_count": null,
   "metadata": {},
   "outputs": [],
   "source": []
  }
 ],
 "metadata": {
  "kernelspec": {
   "display_name": "yolo-pose",
   "language": "python",
   "name": "python3"
  },
  "language_info": {
   "codemirror_mode": {
    "name": "ipython",
    "version": 3
   },
   "file_extension": ".py",
   "mimetype": "text/x-python",
   "name": "python",
   "nbconvert_exporter": "python",
   "pygments_lexer": "ipython3",
   "version": "3.9.15 (main, Nov  4 2022, 16:35:55) [MSC v.1916 64 bit (AMD64)]"
  },
  "orig_nbformat": 4,
  "vscode": {
   "interpreter": {
    "hash": "fbcaa283362f7d7ab34f1f2f660dc94f80607c09155e3180ae2420da513f18b9"
   }
  }
 },
 "nbformat": 4,
 "nbformat_minor": 2
}
